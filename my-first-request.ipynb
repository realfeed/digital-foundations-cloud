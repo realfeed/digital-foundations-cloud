{
 "cells": [
  {
   "cell_type": "code",
   "execution_count": null,
   "metadata": {
    "collapsed": true
   },
   "outputs": [],
   "source": [
    "# This program makes a request to an Elasticsearch API endpoint using a 'where' query and prints the first record in the response payload in json.\n"
   ]
  },
  {
   "cell_type": "code",
   "execution_count": null,
   "metadata": {
    "collapsed": true
   },
   "outputs": [],
   "source": [
    "# Import dependencies\n",
    "\n",
    "import requests\n",
    "import pprint\n",
    "import json"
   ]
  },
  {
   "cell_type": "code",
   "execution_count": null,
   "metadata": {
    "collapsed": true
   },
   "outputs": [],
   "source": [
    "# Define variables\n",
    "\n",
    "headers={'Content-type': 'application/json'}\n",
    "\n",
    "pp = pprint.PrettyPrinter(indent=4)\n",
    "\n",
    "host = 'https://search-lorawan-test-elasticsearch-pjnzn3uxajzeecqr2fberl2pa4.eu-west-1.es.amazonaws.com' # The domain with https:// and trailing slash. For example, https://my-test-domain.us-east-1.es.amazonaws.com/\n",
    "path = '/processedpackets/_search' # the Elasticsearch API endpoint\n",
    "query = {\"query\": {\"term\": {\"timestampGMT\": \"2019-01-04T11:22\"}}}\n",
    "# The requests index 'term' query. For example, {'timestampGMT': '2019-01-04T10:37'}\n",
    "\n",
    "url = host + path\n"
   ]
  },
  {
   "cell_type": "code",
   "execution_count": null,
   "metadata": {
    "collapsed": true
   },
   "outputs": [],
   "source": [
    "response = requests.get(url, data=query, headers=headers) # requests.get, post, and delete have similar syntax\n",
    "\n",
    "json_response = json.loads(response.content)\n",
    "\n",
    "pp.pprint(json_response) # prints the response payload as json.\n"
   ]
  }
 ],
 "metadata": {
  "kernelspec": {
   "display_name": "Python 2",
   "language": "python",
   "name": "python2"
  },
  "language_info": {
   "codemirror_mode": {
    "name": "ipython",
    "version": 2
   },
   "file_extension": ".py",
   "mimetype": "text/x-python",
   "name": "python",
   "nbconvert_exporter": "python",
   "pygments_lexer": "ipython2",
   "version": "2.7.6"
  }
 },
 "nbformat": 4,
 "nbformat_minor": 0
}
