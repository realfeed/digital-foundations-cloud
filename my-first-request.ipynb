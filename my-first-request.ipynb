{
 "cells": [
  {
   "cell_type": "code",
   "execution_count": null,
   "metadata": {},
   "outputs": [],
   "source": [
    "# This program makes a request to an Elasticsearch API endpoint using a 'where' query and prints the first record in the response payload in json.\n"
   ]
  },
  {
   "cell_type": "code",
   "execution_count": null,
   "metadata": {},
   "outputs": [],
   "source": [
    "# Import dependencies\n",
    "\n",
    "import requests\n",
    "import pprint\n",
    "import json"
   ]
  },
  {
   "cell_type": "code",
   "execution_count": null,
   "metadata": {},
   "outputs": [],
   "source": [
    "# Define variables\n",
    "\n",
    "headers = {\"Content-Type\": \"application/json\"}\n",
    "\n",
    "pp = pprint.PrettyPrinter(indent=4)\n",
    "\n",
    "minutesSince = 10\n",
    "\n",
    "host = \"https://search-lorawan-test-elasticsearch-pjnzn3uxajzeecqr2fberl2pa4.eu-west-1.es.amazonaws.com\" # The domain with https:// and trailing slash. For example, https://my-test-domain.us-east-1.es.amazonaws.com/\n",
    "\n",
    "index = \"/ttn-persisted\" # the Elasticsearch API endpoint"
   ]
  },
  {
   "cell_type": "code",
   "execution_count": null,
   "metadata": {},
   "outputs": [],
   "source": [
    "then = \"now\" + \"-\" + str(minutesSince) + \"m\"\n",
    "\n",
    "query = {\n",
    "        \"query\": {\n",
    "            \"bool\": {\n",
    "                \"filter\": {\n",
    "                    \"range\": {\n",
    "                        \"metadata.time\": {\n",
    "                            \"gte\": then,\n",
    "                            \"lt\":  \"now\"\n",
    "                        }\n",
    "                    }\n",
    "                }\n",
    "            }\n",
    "        }\n",
    "}\n",
    "\n",
    "url = host + index + \"/_search\"\n",
    "\n",
    "query_str = json.dumps(query)"
   ]
  },
  {
   "cell_type": "code",
   "execution_count": null,
   "metadata": {
    "scrolled": true
   },
   "outputs": [],
   "source": [
    "response = requests.get(url, data=query_str, headers=headers) # requests.get, post, and delete have similar syntax\n",
    "\n",
    "json_response = json.loads(response.content)\n",
    "\n",
    "pp.pprint(json_response) # prints the response payload as json.\n"
   ]
  },
  {
   "cell_type": "code",
   "execution_count": null,
   "metadata": {},
   "outputs": [],
   "source": []
  }
 ],
 "metadata": {
  "kernelspec": {
   "display_name": "Python 3",
   "language": "python",
   "name": "python3"
  },
  "language_info": {
   "codemirror_mode": {
    "name": "ipython",
    "version": 3
   },
   "file_extension": ".py",
   "mimetype": "text/x-python",
   "name": "python",
   "nbconvert_exporter": "python",
   "pygments_lexer": "ipython3",
   "version": "3.7.0"
  }
 },
 "nbformat": 4,
 "nbformat_minor": 1
}
